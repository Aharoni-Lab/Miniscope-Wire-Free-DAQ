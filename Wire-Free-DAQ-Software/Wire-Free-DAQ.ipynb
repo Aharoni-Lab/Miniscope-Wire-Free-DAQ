{
 "metadata": {
  "language_info": {
   "codemirror_mode": {
    "name": "ipython",
    "version": 3
   },
   "file_extension": ".py",
   "mimetype": "text/x-python",
   "name": "python",
   "nbconvert_exporter": "python",
   "pygments_lexer": "ipython3",
   "version": "3.8.5-final"
  },
  "orig_nbformat": 2,
  "kernelspec": {
   "name": "python_defaultSpec_1599679750722",
   "display_name": "Python 3.8.5 32-bit"
  }
 },
 "nbformat": 4,
 "nbformat_minor": 2,
 "cells": [
  {
   "cell_type": "code",
   "execution_count": 1,
   "metadata": {},
   "outputs": [],
   "source": [
    "import numpy as np\n",
    "import cv2"
   ]
  },
  {
   "cell_type": "code",
   "execution_count": 51,
   "metadata": {},
   "outputs": [],
   "source": [
    "driveName = r\"\\\\.\\PhysicalDrive1\"  # Change this to the correct drive\n",
    "\n",
    "# SD Card sector information\n",
    "headerSector =          1023 # Holds user settings to configure Miniscope and recording\n",
    "configSector =          1024 # Holds final settings of the actual recording\n",
    "dataStartSector =       1025 # Recording data starts here\n",
    "sectorSize =            512\n",
    "\n",
    "WRITE_KEY0 =\t\t\t\t0x0D7CBA17\n",
    "WRITE_KEY1 =\t\t\t\t0x0D7CBA17\n",
    "WRITE_KEY2 =\t\t\t\t0x0D7CBA17\n",
    "WRITE_KEY3 =\t\t\t\t0x0D7CBA17\n",
    "\n",
    "# SD Card Header Sector positions\n",
    "HEADER_GAIN_POS =\t\t\t\t4\n",
    "HEADER_LED_POS =\t\t\t\t5\n",
    "HEADER_EWL_POS =\t\t\t\t6\n",
    "HEADER_RECORD_LENGTH_POS =  \t7\n",
    "HEADER_FRAME_RATE = \t\t\t8\n",
    "\n",
    "# SD Card Config Sector positions\n",
    "CONFIG_BLOCK_WIDTH_POS =\t\t\t0\n",
    "CONFIG_BLOCK_HEIGHT_POS\t=   \t\t1\n",
    "CONFIG_BLOCK_FRAME_RATE_POS\t=   \t2\n",
    "CONFIG_BLOCK_BUFFER_SIZE_POS =  \t3\n",
    "\n",
    "# Data Buffer Header positions\n",
    "BUFFER_HEADER_BUFFER_LENGTH_POS =\t\t\t0\n",
    "BUFFER_HEADER_LINKED_LIST_POS = \t\t\t1\n",
    "BUFFER_HEADER_FRAME_NUM_POS\t=   \t\t\t2\n",
    "BUFFER_HEADER_BUFFER_COUNT_POS =\t\t\t3\n",
    "BUFFER_HEADER_FRAME_BUFFER_COUNT_POS =  \t4\n",
    "BUFFER_HEADER_TIMESTAMP_POS\t=   \t\t\t5\n",
    "BUFFER_HEADER_DATA_LENGTH_POS = \t\t\t6"
   ]
  },
  {
   "cell_type": "code",
   "execution_count": 61,
   "metadata": {},
   "outputs": [],
   "source": [
    "# variables that you can adjust\n",
    "correctDrive = False\n",
    "f = open(driveName, \"rb\")  # Open drive\n",
    "\n",
    "# Make sure this is the correct drive\n",
    "# Read SD Card header and config sectors\n",
    "f.seek(headerSector * sectorSize, 0)  # Move to correct sector\n",
    "headerSectorData = np.fromstring(f.read(sectorSize), dtype=np.uint32)\n",
    "if ((WRITE_KEY0 == headerSectorData[0]) and (WRITE_KEY1 == headerSectorData[1]) and (WRITE_KEY2 == headerSectorData[2]) and (WRITE_KEY3 == headerSectorData[3])):\n",
    "    correctDrive = True\n",
    "else:\n",
    "    correctDrive = False\n",
    "    f.close()"
   ]
  },
  {
   "cell_type": "code",
   "execution_count": 76,
   "metadata": {},
   "outputs": [
    {
     "output_type": "execute_result",
     "data": {
      "text/plain": "array([ 96,   2,   0,   0,  96,   2,   0,   0,  20,   0,   0,   0,   0,\n       250,   0,   0,   0,   0,   0,   0,   0,   0,   0,   0,   0,   0,\n         0,   0,   0,   0,   0,   0,   0,   0,   0,   0,   0,   0,   0,\n         0,   0,   0,   0,   0,   0,   0,   0,   0,   0,   0,   0,   0,\n         0,   0,   0,   0,   0,   0,   0,   0,   0,   0,   0,   0,   0,\n         0,   0,   0,   0,   0,   0,   0,   0,   0,   0,   0,   0,   0,\n         0,   0,   0,   0,   0,   0,   0,   0,   0,   0,   0,   0,   0,\n         0,   0,   0,   0,   0,   0,   0,   0,   0,   0,   0,   0,   0,\n         0,   0,   0,   0,   0,   0,   0,   0,   0,   0,   0,   0,   0,\n         0,   0,   0,   0,   0,   0,   0,   0,   0,   0,   0,   0,   0,\n         0,   0,   0,   0,   0,   0,   0,   0,   0,   0,   0,   0,   0,\n         0,   0,   0,   0,   0,   0,   0,   0,   0,   0,   0,   0,   0,\n         0,   0,   0,   0,   0,   0,   0,   0,   0,   0,   0,   0,   0,\n         0,   0,   0,   0,   0,   0,   0,   0,   0,   0,   0,   0,   0,\n         0,   0,   0,   0,   0,   0,   0,   0,   0,   0,   0,   0,   0,\n         0,   0,   0,   0,   0,   0,   0,   0,   0,   0,   0,   0,   0,\n         0,   0,   0,   0,   0,   0,   0,   0,   0,   0,   0,   0,   0,\n         0,   0,   0,   0,   0,   0,   0,   0,   0,   0,   0,   0,   0,\n         0,   0,   0,   0,   0,   0,   0,   0,   0,   0,   0,   0,   0,\n         0,   0,   0,   0,   0,   0,   0,   0,   0,   0,   0,   0,   0,\n         0,   0,   0,   0,   0,   0,   0,   0,   0,   0,   0,   0,   0,\n         0,   0,   0,   0,   0,   0,   0,   0,   0,   0,   0,   0,   0,\n         0,   0,   0,   0,   0,   0,   0,   0,   0,   0,   0,   0,   0,\n         0,   0,   0,   0,   0,   0,   0,   0,   0,   0,   0,   0,   0,\n         0,   0,   0,   0,   0,   0,   0,   0,   0,   0,   0,   0,   0,\n         0,   0,   0,   0,   0,   0,   0,   0,   0,   0,   0,   0,   0,\n         0,   0,   0,   0,   0,   0,   0,   0,   0,   0,   0,   0,   0,\n         0,   0,   0,   0,   0,   0,   0,   0,   0,   0,   0,   0,   0,\n         0,   0,   0,   0,   0,   0,   0,   0,   0,   0,   0,   0,   0,\n         0,   0,   0,   0,   0,   0,   0,   0,   0,   0,   0,   0,   0,\n         0,   0,   0,   0,   0,   0,   0,   0,   0,   0,   0,   0,   0,\n         0,   0,   0,   0,   0,   0,   0,   0,   0,   0,   0,   0,   0,\n         0,   0,   0,   0,   0,   0,   0,   0,   0,   0,   0,   0,   0,\n         0,   0,   0,   0,   0,   0,   0,   0,   0,   0,   0,   0,   0,\n         0,   0,   0,   0,   0,   0,   0,   0,   0,   0,   0,   0,   0,\n         0,   0,   0,   0,   0,   0,   0,   0,   0,   0,   0,   0,   0,\n         0,   0,   0,   0,   0,   0,   0,   0,   0,   0,   0,   0,   0,\n         0,   0,   0,   0,   0,   0,   0,   0,   0,   0,   0,   0,   0,\n         0,   0,   0,   0,   0,   0,   0,   0,   0,   0,   0,   0,   0,\n         0,   0,   0,   0,   0], dtype=uint8)"
     },
     "metadata": {},
     "execution_count": 76
    }
   ],
   "source": [
    "# Load up Config Sector\n",
    "f.seek(configSector * sectorSize, 0)  # Move to correct sector\n",
    "configSectorData = np.fromstring(f.read(sectorSize), dtype=np.uint8)"
   ]
  },
  {
   "cell_type": "code",
   "execution_count": 88,
   "metadata": {
    "tags": []
   },
   "outputs": [
    {
     "output_type": "stream",
     "name": "stdout",
     "text": "[    0     0     0     0    57 63972]\n[    1     0     1     1    61 63972]\n[    2     0     2     2    65 63972]\n[    3     0     3     3    70 63972]\n[    4     0     4     4    74 63972]\n[    0     0     5     5    77 63972]\n[    1     1     6     0   107 63972]\n[    2     1     7     1   111 63972]\n[    3     1     8     2   116 63972]\n[    4     1     9     3   120 63972]\n[    0     1    10     4   124 63972]\n[    1     1    11     5   128 63972]\n[    2     2    12     0   158 63972]\n[    3     2    13     1   162 63972]\n[    4     2    14     2   166 63972]\n[    0     2    15     3   171 63972]\n[    1     2    16     4   175 63972]\n[    2     2    17     5   178 63972]\n[    3     3    18     0   208 63972]\n[    4     3    19     1   213 63972]\n"
    }
   ],
   "source": [
    "# Read Data Sectors\n",
    "f.seek(dataStartSector * sectorSize, 0) # Starting data location\n",
    "for i in range(20):\n",
    "    dataHeaderLength = np.fromstring(f.read(4), dtype=np.uint32)\n",
    "    dataHeader = np.fromstring(f.read((dataHeaderLength[0] - 1) * 4), dtype=np.uint32)\n",
    "    print(dataHeader)\n",
    "    data = np.fromstring(f.read((dataHeader[BUFFER_HEADER_DATA_LENGTH_POS - 1])), dtype=np.uint8)\n",
    "\n",
    "\n"
   ]
  }
 ]
}